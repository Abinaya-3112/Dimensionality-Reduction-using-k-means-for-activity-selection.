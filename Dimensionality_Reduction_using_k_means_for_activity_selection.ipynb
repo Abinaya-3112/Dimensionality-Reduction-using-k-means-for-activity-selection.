{
  "nbformat": 4,
  "nbformat_minor": 0,
  "metadata": {
    "colab": {
      "provenance": []
    },
    "kernelspec": {
      "name": "python3",
      "display_name": "Python 3"
    },
    "language_info": {
      "name": "python"
    }
  },
  "cells": [
    {
      "cell_type": "code",
      "execution_count": 2,
      "metadata": {
        "id": "4w0XcmHSI2cg"
      },
      "outputs": [],
      "source": [
        "import requests\n",
        "from bs4 import BeautifulSoup\n",
        "import zipfile\n",
        "import io\n",
        "import pandas as pd\n",
        "from sklearn.cluster import KMeans\n",
        "from sklearn.model_selection import train_test_split\n",
        "from sklearn.preprocessing import LabelEncoder, StandardScaler\n",
        "from sklearn.linear_model import LogisticRegression\n",
        "from sklearn.pipeline import Pipeline\n",
        "from sklearn.metrics import accuracy_score, classification_report\n",
        "import numpy as np\n",
        "import time\n",
        "\n",
        "# Function to download and load dataset\n",
        "def load_data():\n",
        "    page_url = 'https://archive.ics.uci.edu/dataset/240/human+activity+recognition+using+smartphones'\n",
        "    page_response = requests.get(page_url)\n",
        "    if page_response.status_code == 200:\n",
        "        soup = BeautifulSoup(page_response.content, 'html.parser')\n",
        "        download_link = soup.select_one('a[href$=\".zip\"]')['href']\n",
        "        full_download_url = 'https://archive.ics.uci.edu' + download_link\n",
        "        response = requests.get(full_download_url)\n",
        "        if response.status_code == 200:\n",
        "            with zipfile.ZipFile(io.BytesIO(response.content)) as outer_zip:\n",
        "                inner_zip_name = 'UCI HAR Dataset.zip'\n",
        "                with outer_zip.open(inner_zip_name) as inner_zip_file:\n",
        "                    with zipfile.ZipFile(io.BytesIO(inner_zip_file.read())) as inner_zip:\n",
        "                        with inner_zip.open('UCI HAR Dataset/train/X_train.txt') as myfile:\n",
        "                            df = pd.read_csv(myfile, delim_whitespace=True, header=None)\n",
        "                        with inner_zip.open('UCI HAR Dataset/train/y_train.txt') as myfile_y:\n",
        "                            y = pd.read_csv(myfile_y, delim_whitespace=True, header=None)\n",
        "    else:\n",
        "        raise Exception(\"Failed to download or parse the dataset.\")\n",
        "    return df, y"
      ]
    },
    {
      "cell_type": "code",
      "source": [],
      "metadata": {
        "id": "gWw-_t6Uas9c"
      },
      "execution_count": null,
      "outputs": []
    },
    {
      "cell_type": "code",
      "source": [
        "import pandas as pd\n",
        "from sklearn.model_selection import train_test_split\n",
        "from sklearn.preprocessing import LabelEncoder, StandardScaler\n",
        "from sklearn.linear_model import LogisticRegression\n",
        "from sklearn.pipeline import Pipeline\n",
        "from sklearn.metrics import accuracy_score\n",
        "from sklearn.cluster import KMeans\n",
        "import matplotlib.pyplot as plt\n",
        "import numpy as np\n",
        "import time\n",
        "\n",
        "# Load dataset\n",
        "df, y = load_data()\n",
        "#TASK 1 - DO EDA and understand a little about the data.\n",
        "#Only important thing is to know that it has a lot of features that don't make sense, just a\n",
        "#bunch of readings from sensors.\n",
        "#We think many of these features are redundant or irrelevant, and we want to find good features.\n",
        "\n",
        "#ADD EDA steps\n",
        "# Display first 5 rows of the dataset\n",
        "print(df.head())\n",
        "\n",
        "# Summary statistics\n",
        "print(df.describe())\n",
        "\n",
        "# Check for missing values\n",
        "print(df.isnull().sum())\n",
        "\n",
        "# Data type information\n",
        "print(df.info())\n"
      ],
      "metadata": {
        "colab": {
          "base_uri": "https://localhost:8080/"
        },
        "id": "EVjMWjeeJDU8",
        "outputId": "9ae67c0a-8fe9-4f7a-c5a8-b3b2fae8436b"
      },
      "execution_count": 3,
      "outputs": [
        {
          "output_type": "stream",
          "name": "stderr",
          "text": [
            "<ipython-input-2-836ccc4d8ebc>:30: FutureWarning: The 'delim_whitespace' keyword in pd.read_csv is deprecated and will be removed in a future version. Use ``sep='\\s+'`` instead\n",
            "  df = pd.read_csv(myfile, delim_whitespace=True, header=None)\n",
            "<ipython-input-2-836ccc4d8ebc>:32: FutureWarning: The 'delim_whitespace' keyword in pd.read_csv is deprecated and will be removed in a future version. Use ``sep='\\s+'`` instead\n",
            "  y = pd.read_csv(myfile_y, delim_whitespace=True, header=None)\n"
          ]
        },
        {
          "output_type": "stream",
          "name": "stdout",
          "text": [
            "        0         1         2         3         4         5         6    \\\n",
            "0  0.288585 -0.020294 -0.132905 -0.995279 -0.983111 -0.913526 -0.995112   \n",
            "1  0.278419 -0.016411 -0.123520 -0.998245 -0.975300 -0.960322 -0.998807   \n",
            "2  0.279653 -0.019467 -0.113462 -0.995380 -0.967187 -0.978944 -0.996520   \n",
            "3  0.279174 -0.026201 -0.123283 -0.996091 -0.983403 -0.990675 -0.997099   \n",
            "4  0.276629 -0.016570 -0.115362 -0.998139 -0.980817 -0.990482 -0.998321   \n",
            "\n",
            "        7         8         9    ...       551       552       553       554  \\\n",
            "0 -0.983185 -0.923527 -0.934724  ... -0.074323 -0.298676 -0.710304 -0.112754   \n",
            "1 -0.974914 -0.957686 -0.943068  ...  0.158075 -0.595051 -0.861499  0.053477   \n",
            "2 -0.963668 -0.977469 -0.938692  ...  0.414503 -0.390748 -0.760104 -0.118559   \n",
            "3 -0.982750 -0.989302 -0.938692  ...  0.404573 -0.117290 -0.482845 -0.036788   \n",
            "4 -0.979672 -0.990441 -0.942469  ...  0.087753 -0.351471 -0.699205  0.123320   \n",
            "\n",
            "        555       556       557       558       559       560  \n",
            "0  0.030400 -0.464761 -0.018446 -0.841247  0.179941 -0.058627  \n",
            "1 -0.007435 -0.732626  0.703511 -0.844788  0.180289 -0.054317  \n",
            "2  0.177899  0.100699  0.808529 -0.848933  0.180637 -0.049118  \n",
            "3 -0.012892  0.640011 -0.485366 -0.848649  0.181935 -0.047663  \n",
            "4  0.122542  0.693578 -0.615971 -0.847865  0.185151 -0.043892  \n",
            "\n",
            "[5 rows x 561 columns]\n",
            "               0            1            2            3            4    \\\n",
            "count  7352.000000  7352.000000  7352.000000  7352.000000  7352.000000   \n",
            "mean      0.274488    -0.017695    -0.109141    -0.605438    -0.510938   \n",
            "std       0.070261     0.040811     0.056635     0.448734     0.502645   \n",
            "min      -1.000000    -1.000000    -1.000000    -1.000000    -0.999873   \n",
            "25%       0.262975    -0.024863    -0.120993    -0.992754    -0.978129   \n",
            "50%       0.277193    -0.017219    -0.108676    -0.946196    -0.851897   \n",
            "75%       0.288461    -0.010783    -0.097794    -0.242813    -0.034231   \n",
            "max       1.000000     1.000000     1.000000     1.000000     0.916238   \n",
            "\n",
            "               5            6            7            8            9    ...  \\\n",
            "count  7352.000000  7352.000000  7352.000000  7352.000000  7352.000000  ...   \n",
            "mean     -0.604754    -0.630512    -0.526907    -0.606150    -0.468604  ...   \n",
            "std       0.418687     0.424073     0.485942     0.414122     0.544547  ...   \n",
            "min      -1.000000    -1.000000    -1.000000    -1.000000    -1.000000  ...   \n",
            "25%      -0.980233    -0.993591    -0.978162    -0.980251    -0.936219  ...   \n",
            "50%      -0.859365    -0.950709    -0.857328    -0.857143    -0.881637  ...   \n",
            "75%      -0.262415    -0.292680    -0.066701    -0.265671    -0.017129  ...   \n",
            "max       1.000000     1.000000     0.967664     1.000000     1.000000  ...   \n",
            "\n",
            "               551          552          553          554          555  \\\n",
            "count  7352.000000  7352.000000  7352.000000  7352.000000  7352.000000   \n",
            "mean      0.125293    -0.307009    -0.625294     0.008684     0.002186   \n",
            "std       0.250994     0.321011     0.307584     0.336787     0.448306   \n",
            "min      -1.000000    -0.995357    -0.999765    -0.976580    -1.000000   \n",
            "25%      -0.023692    -0.542602    -0.845573    -0.121527    -0.289549   \n",
            "50%       0.134000    -0.343685    -0.711692     0.009509     0.008943   \n",
            "75%       0.289096    -0.126979    -0.503878     0.150865     0.292861   \n",
            "max       0.946700     0.989538     0.956845     1.000000     1.000000   \n",
            "\n",
            "               556          557          558          559          560  \n",
            "count  7352.000000  7352.000000  7352.000000  7352.000000  7352.000000  \n",
            "mean      0.008726    -0.005981    -0.489547     0.058593    -0.056515  \n",
            "std       0.608303     0.477975     0.511807     0.297480     0.279122  \n",
            "min      -1.000000    -1.000000    -1.000000    -1.000000    -1.000000  \n",
            "25%      -0.482273    -0.376341    -0.812065    -0.017885    -0.143414  \n",
            "50%       0.008735    -0.000368    -0.709417     0.182071     0.003181  \n",
            "75%       0.506187     0.359368    -0.509079     0.248353     0.107659  \n",
            "max       0.998702     0.996078     1.000000     0.478157     1.000000  \n",
            "\n",
            "[8 rows x 561 columns]\n",
            "0      0\n",
            "1      0\n",
            "2      0\n",
            "3      0\n",
            "4      0\n",
            "      ..\n",
            "556    0\n",
            "557    0\n",
            "558    0\n",
            "559    0\n",
            "560    0\n",
            "Length: 561, dtype: int64\n",
            "<class 'pandas.core.frame.DataFrame'>\n",
            "RangeIndex: 7352 entries, 0 to 7351\n",
            "Columns: 561 entries, 0 to 560\n",
            "dtypes: float64(561)\n",
            "memory usage: 31.5 MB\n",
            "None\n"
          ]
        }
      ]
    },
    {
      "cell_type": "code",
      "source": [
        "#  Scale the features using StandardScaler\n",
        "# Apply StandardScaler to df\n",
        "\n",
        "scaler = StandardScaler()\n",
        "df_scaled = scaler.fit_transform(df)"
      ],
      "metadata": {
        "id": "y1DAq8pTcxap"
      },
      "execution_count": 4,
      "outputs": []
    },
    {
      "cell_type": "code",
      "source": [
        "#  Split the data into training and testing sets\n",
        "# Use train_test_split to split the data\n",
        "X_train_full, X_test_full, y_train, y_test = train_test_split(df_scaled, encoded_y, test_size=0.2, random_state=42)"
      ],
      "metadata": {
        "id": "LzOG7NFAc2Lr"
      },
      "execution_count": 9,
      "outputs": []
    },
    {
      "cell_type": "code",
      "source": [
        "# 5\n",
        "from sklearn.naive_bayes import GaussianNB\n",
        "start_time=time.time()\n",
        "pipeline = Pipeline([('scaler', StandardScaler()), ('classifier', GaussianNB())])\n",
        "pipeline.fit(X_train_full, y_train)\n",
        "y_pred = pipeline.predict(X_test_full)\n",
        "accuracy = accuracy_score(y_test, y_pred)\n",
        "print(f\"Accuracy: {accuracy}\")\n",
        "end_time=time.time()\n",
        "print(f\"Accuracy: {accuracy}\")"
      ],
      "metadata": {
        "colab": {
          "base_uri": "https://localhost:8080/"
        },
        "id": "6d22ELK0dHie",
        "outputId": "c54d799e-2335-4f98-931b-13795da832d1"
      },
      "execution_count": 13,
      "outputs": [
        {
          "output_type": "stream",
          "name": "stdout",
          "text": [
            "Accuracy: 0.7314751869476547\n",
            "Accuracy: 0.7314751869476547\n"
          ]
        }
      ]
    },
    {
      "cell_type": "code",
      "source": [
        "# 1. Note the start time before defining the pipeline\n",
        "# 2. Note the end time and report the difference as the time taken by the model training and inference.\n",
        "total_time = end_time - start_time\n",
        "print(f\"Total time taken for model training and inference: {total_time:.4f} seconds\")"
      ],
      "metadata": {
        "colab": {
          "base_uri": "https://localhost:8080/"
        },
        "id": "HEziyHMIftoD",
        "outputId": "cb3a75d4-1d23-4e7a-c61d-7fc7ea50861d"
      },
      "execution_count": 14,
      "outputs": [
        {
          "output_type": "stream",
          "name": "stdout",
          "text": [
            "Total time taken for model training and inference: 0.1424 seconds\n"
          ]
        }
      ]
    },
    {
      "cell_type": "code",
      "source": [
        "#  K-Means for dimensionality reduction\n",
        "n_clusters = #FILL\n",
        "kmeans = #FILL\n",
        "kmeans.fit( )#FILL  # Transpose to treat features as data points\n",
        "selected_features_indices = #FILL\n",
        "selected_features = #FILL"
      ],
      "metadata": {
        "id": "LxJKigphj440"
      },
      "execution_count": null,
      "outputs": []
    },
    {
      "cell_type": "code",
      "source": [
        "#  K-Means for dimensionality reduction\n",
        "n_clusters = 50\n",
        "kmeans = KMeans(n_clusters=n_clusters, random_state=42, n_init=10)\n",
        "kmeans.fit(df_scaled.T)  # Transpose to treat features as data points\n",
        "selected_features_indices = [np.random.choice(np.where(kmeans.labels_ == i)[0]) for i in range(n_clusters)]\n",
        "selected_features = df_scaled[:, selected_features_indices]"
      ],
      "metadata": {
        "id": "6dBHhc2FksxQ"
      },
      "execution_count": 16,
      "outputs": []
    },
    {
      "cell_type": "code",
      "source": [
        "#TASK 8 - Train another model (GaussianNB) on the new dataset, and report time taken and accuracy\n",
        "start_time = time.time()\n",
        "classifier_pipeline_selected = Pipeline([\n",
        "    ('classifier', GaussianNB())\n",
        "])\n",
        "\n",
        "# Use selected_features_indices to index the NumPy arrays\n",
        "classifier_pipeline_selected.fit(X_train_full[:, selected_features_indices], y_train)\n",
        "y_pred_selected = classifier_pipeline_selected.predict(X_test_full[:, selected_features_indices])\n",
        "\n",
        "end_time = time.time()\n",
        "selected_features_time = end_time - start_time\n",
        "accuracy_selected = accuracy_score(y_test, y_pred_selected)\n",
        "print(f\"Accuracy with selected features: {accuracy_selected}\")\n",
        "print(f\"Total time taken with selected features: {selected_features_time:.4f} seconds\")"
      ],
      "metadata": {
        "colab": {
          "base_uri": "https://localhost:8080/"
        },
        "id": "k57vKh7_uyFG",
        "outputId": "2f30bc75-0190-4659-f162-4012184168ee"
      },
      "execution_count": 21,
      "outputs": [
        {
          "output_type": "stream",
          "name": "stdout",
          "text": [
            "Accuracy with selected features: 0.8089734874235214\n",
            "Total time taken with selected features: 0.0220 seconds\n"
          ]
        }
      ]
    }
  ]
}